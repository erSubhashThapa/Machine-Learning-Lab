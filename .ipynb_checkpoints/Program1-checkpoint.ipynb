{
 "cells": [
  {
   "cell_type": "code",
   "execution_count": 19,
   "metadata": {},
   "outputs": [
    {
     "name": "stdout",
     "output_type": "stream",
     "text": [
      "<_csv.reader object at 0x7f7ef82dac80>\n",
      "\n",
      "The given training examples are:\n",
      "['Sunny', ' Warm', ' Normal', ' Strong', ' Warm', ' Same', ' Y']\n",
      "['Sunny', ' Warm', ' Normal', ' Strong', ' Warm', ' Same', ' Y']\n",
      "['Sunny', ' Warm', ' High', ' Strong', ' Warm', ' Same', ' Y']\n",
      "['Sunny', ' Warm', ' High', ' Strong', ' Warm', ' Same', ' Y']\n",
      "['Rainy', ' Cold', ' High', ' Strong', ' Warm', ' Change', ' N']\n",
      "['Rainy', ' Cold', ' High', ' Strong', ' Warm', ' Change', ' N']\n",
      "['Sunny', ' Warm', ' High', ' Strong', ' Cool', ' Change', ' Y']\n",
      "['Sunny', ' Warm', ' High', ' Strong', ' Cool', ' Change', ' Y']\n",
      "\n",
      "The positive examples are:\n",
      "\n",
      "\n",
      "The steps of the Find-s algorithm are\n",
      " ['%', '%', '%', '%', '%', '%']\n"
     ]
    },
    {
     "ename": "IndexError",
     "evalue": "list index out of range",
     "output_type": "error",
     "traceback": [
      "\u001b[0;31m---------------------------------------------------------------------------\u001b[0m",
      "\u001b[0;31mIndexError\u001b[0m                                Traceback (most recent call last)",
      "\u001b[0;32m<ipython-input-19-b9f2e1921b2c>\u001b[0m in \u001b[0;36m<module>\u001b[0;34m\u001b[0m\n\u001b[1;32m     24\u001b[0m \u001b[0mlist\u001b[0m \u001b[0;34m=\u001b[0m \u001b[0;34m[\u001b[0m\u001b[0;34m]\u001b[0m\u001b[0;34m;\u001b[0m\u001b[0;34m\u001b[0m\u001b[0;34m\u001b[0m\u001b[0m\n\u001b[1;32m     25\u001b[0m \u001b[0mp\u001b[0m\u001b[0;34m=\u001b[0m\u001b[0;36m0\u001b[0m\u001b[0;34m;\u001b[0m\u001b[0;34m\u001b[0m\u001b[0;34m\u001b[0m\u001b[0m\n\u001b[0;32m---> 26\u001b[0;31m \u001b[0md\u001b[0m\u001b[0;34m=\u001b[0m\u001b[0mlen\u001b[0m\u001b[0;34m(\u001b[0m\u001b[0mdata\u001b[0m\u001b[0;34m[\u001b[0m\u001b[0mp\u001b[0m\u001b[0;34m]\u001b[0m\u001b[0;34m)\u001b[0m\u001b[0;34m-\u001b[0m\u001b[0;36m1\u001b[0m\u001b[0;34m;\u001b[0m\u001b[0;34m\u001b[0m\u001b[0;34m\u001b[0m\u001b[0m\n\u001b[0m\u001b[1;32m     27\u001b[0m \u001b[0;32mfor\u001b[0m \u001b[0mj\u001b[0m \u001b[0;32min\u001b[0m \u001b[0mrange\u001b[0m\u001b[0;34m(\u001b[0m\u001b[0md\u001b[0m\u001b[0;34m)\u001b[0m\u001b[0;34m:\u001b[0m\u001b[0;34m\u001b[0m\u001b[0;34m\u001b[0m\u001b[0m\n\u001b[1;32m     28\u001b[0m         \u001b[0mlist\u001b[0m\u001b[0;34m.\u001b[0m\u001b[0mappend\u001b[0m\u001b[0;34m(\u001b[0m\u001b[0mdata\u001b[0m\u001b[0;34m[\u001b[0m\u001b[0mi\u001b[0m\u001b[0;34m]\u001b[0m\u001b[0;34m[\u001b[0m\u001b[0mj\u001b[0m\u001b[0;34m]\u001b[0m\u001b[0;34m)\u001b[0m\u001b[0;34m;\u001b[0m\u001b[0;34m\u001b[0m\u001b[0;34m\u001b[0m\u001b[0m\n",
      "\u001b[0;31mIndexError\u001b[0m: list index out of range"
     ]
    }
   ],
   "source": [
    "import csv\n",
    "hypo=['%','%','%','%','%','%'];\n",
    "data = []\n",
    "with open('program1.csv') as csv_file:\n",
    "\treadcsv = csv.reader(csv_file, delimiter=',')\n",
    "\tprint(readcsv)\n",
    "\tprint(\"\\nThe given training examples are:\")\n",
    "\tfor row in readcsv:\n",
    "\t\tprint(row)\n",
    "\t\tif row[len(row)-1].upper() == \" Y\":\n",
    "\t\t\tdata.append(row)\n",
    "            \n",
    "print(\"\\nThe positive examples are:\");\n",
    "for x in data:\n",
    "\tprint(x);\n",
    "print(\"\\n\");\n",
    "\n",
    "TotalExamples = len(data);\n",
    "i=0;\n",
    "j=0;\n",
    "k=0;\n",
    "print(\"The steps of the Find-s algorithm are\\n\",hypo);\n",
    "list = [];\n",
    "p=0;\n",
    "d=len(data[p])-1;\n",
    "for j in range(d):\t\n",
    "\tlist.append(data[i][j]);\n",
    "hypo=list;\n",
    "i=1;\n",
    "for i in range(TotalExamples):\t\n",
    "\tfor k in range(d):\n",
    "\t\tif hypo[k]!=data[i][k]:\n",
    "\t\t\thypo[k]='?';\n",
    "\t\t\tk=k+1;\n",
    "\t\telse:\n",
    "\t\t\thypo[k];\n",
    "\tprint(hypo);\n",
    "\ti=i+1;\n",
    "print(\"\\nThe maximally specific Find-s hypothesis for the given training examples is\");\n",
    "list=[];\n",
    "for i in range(d):\n",
    "\tlist.append(hypo[i]);\n",
    "print(list);\n",
    "\n"
   ]
  },
  {
   "cell_type": "code",
   "execution_count": null,
   "metadata": {},
   "outputs": [],
   "source": []
  },
  {
   "cell_type": "code",
   "execution_count": null,
   "metadata": {},
   "outputs": [],
   "source": []
  },
  {
   "cell_type": "code",
   "execution_count": null,
   "metadata": {},
   "outputs": [],
   "source": []
  },
  {
   "cell_type": "code",
   "execution_count": null,
   "metadata": {},
   "outputs": [],
   "source": []
  },
  {
   "cell_type": "code",
   "execution_count": null,
   "metadata": {},
   "outputs": [],
   "source": []
  },
  {
   "cell_type": "code",
   "execution_count": null,
   "metadata": {},
   "outputs": [],
   "source": []
  }
 ],
 "metadata": {
  "kernelspec": {
   "display_name": "Python 3",
   "language": "python",
   "name": "python3"
  },
  "language_info": {
   "codemirror_mode": {
    "name": "ipython",
    "version": 3
   },
   "file_extension": ".py",
   "mimetype": "text/x-python",
   "name": "python",
   "nbconvert_exporter": "python",
   "pygments_lexer": "ipython3",
   "version": "3.8.3"
  }
 },
 "nbformat": 4,
 "nbformat_minor": 4
}
