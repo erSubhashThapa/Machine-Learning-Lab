{
 "cells": [
  {
   "cell_type": "code",
   "execution_count": 20,
   "metadata": {},
   "outputs": [
    {
     "name": "stdout",
     "output_type": "stream",
     "text": [
      "<_csv.reader object at 0x7f7ef82dae40>\n",
      "\n",
      "The given training examples are:\n",
      "['Sunny', ' Warm', ' Normal', ' Strong', ' Warm', ' Same', ' Y']\n",
      "['Sunny', ' Warm', ' High', ' Strong', ' Warm', ' Same', ' Y']\n",
      "['Rainy', ' Cold', ' High', ' Strong', ' Warm', ' Change', ' N']\n",
      "['Sunny', ' Warm', ' High', ' Strong', ' Cool', ' Change', ' Y']\n",
      "\n",
      "The positive examples are:\n",
      "['Sunny', ' Warm', ' Normal', ' Strong', ' Warm', ' Same', ' Y']\n",
      "['Sunny', ' Warm', ' High', ' Strong', ' Warm', ' Same', ' Y']\n",
      "['Sunny', ' Warm', ' High', ' Strong', ' Cool', ' Change', ' Y']\n",
      "\n",
      "\n",
      "The steps of the Find-s algorithm are\n",
      " ['%', '%', '%', '%', '%', '%']\n",
      "['Sunny', ' Warm', ' Normal', ' Strong', ' Warm', ' Same']\n",
      "['Sunny', ' Warm', '?', ' Strong', ' Warm', ' Same']\n",
      "['Sunny', ' Warm', '?', ' Strong', '?', '?']\n",
      "\n",
      "The maximally specific Find-s hypothesis for the given training examples is\n",
      "['Sunny', ' Warm', '?', ' Strong', '?', '?']\n"
     ]
    }
   ],
   "source": [
    "import csv\n",
    "hypo=['%','%','%','%','%','%'];\n",
    "data = []\n",
    "with open('program1.csv') as csv_file:\n",
    "\treadcsv = csv.reader(csv_file, delimiter=',')\n",
    "\tprint(readcsv)\n",
    "\tprint(\"\\nThe given training examples are:\")\n",
    "\tfor row in readcsv:\n",
    "\t\tprint(row)\n",
    "\t\tif row[len(row)-1].upper() == \" Y\":\n",
    "\t\t\tdata.append(row)\n",
    "            \n",
    "print(\"\\nThe positive examples are:\");\n",
    "for x in data:\n",
    "\tprint(x);\n",
    "print(\"\\n\");\n",
    "\n",
    "TotalExamples = len(data);\n",
    "i=0;\n",
    "j=0;\n",
    "k=0;\n",
    "print(\"The steps of the Find-s algorithm are\\n\",hypo);\n",
    "list = [];\n",
    "p=0;\n",
    "d=len(data[p])-1;\n",
    "for j in range(d):\t\n",
    "\tlist.append(data[i][j]);\n",
    "hypo=list;\n",
    "i=1;\n",
    "for i in range(TotalExamples):\t\n",
    "\tfor k in range(d):\n",
    "\t\tif hypo[k]!=data[i][k]:\n",
    "\t\t\thypo[k]='?';\n",
    "\t\t\tk=k+1;\n",
    "\t\telse:\n",
    "\t\t\thypo[k];\n",
    "\tprint(hypo);\n",
    "\ti=i+1;\n",
    "print(\"\\nThe maximally specific Find-s hypothesis for the given training examples is\");\n",
    "list=[];\n",
    "for i in range(d):\n",
    "\tlist.append(hypo[i]);\n",
    "print(list);\n",
    "\n"
   ]
  },
  {
   "cell_type": "code",
   "execution_count": null,
   "metadata": {},
   "outputs": [],
   "source": []
  },
  {
   "cell_type": "code",
   "execution_count": null,
   "metadata": {},
   "outputs": [],
   "source": []
  },
  {
   "cell_type": "code",
   "execution_count": null,
   "metadata": {},
   "outputs": [],
   "source": []
  },
  {
   "cell_type": "code",
   "execution_count": null,
   "metadata": {},
   "outputs": [],
   "source": []
  },
  {
   "cell_type": "code",
   "execution_count": null,
   "metadata": {},
   "outputs": [],
   "source": []
  },
  {
   "cell_type": "code",
   "execution_count": null,
   "metadata": {},
   "outputs": [],
   "source": []
  }
 ],
 "metadata": {
  "kernelspec": {
   "display_name": "Python 3",
   "language": "python",
   "name": "python3"
  },
  "language_info": {
   "codemirror_mode": {
    "name": "ipython",
    "version": 3
   },
   "file_extension": ".py",
   "mimetype": "text/x-python",
   "name": "python",
   "nbconvert_exporter": "python",
   "pygments_lexer": "ipython3",
   "version": "3.8.3"
  }
 },
 "nbformat": 4,
 "nbformat_minor": 4
}
